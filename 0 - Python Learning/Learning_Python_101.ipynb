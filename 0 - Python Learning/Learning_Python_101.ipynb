{
  "nbformat": 4,
  "nbformat_minor": 0,
  "metadata": {
    "colab": {
      "provenance": []
    },
    "kernelspec": {
      "name": "python3",
      "display_name": "Python 3"
    },
    "language_info": {
      "name": "python"
    }
  },
  "cells": [
    {
      "cell_type": "markdown",
      "source": [
        "# Python 101\n",
        "-------------"
      ],
      "metadata": {
        "id": "gc415C9cfNkW"
      }
    },
    {
      "cell_type": "code",
      "execution_count": null,
      "metadata": {
        "colab": {
          "base_uri": "https://localhost:8080/"
        },
        "id": "XZhjkvxhfGM7",
        "outputId": "6f1bbdfc-f2dc-435e-ead2-f780e6ff382f"
      },
      "outputs": [
        {
          "output_type": "stream",
          "name": "stdout",
          "text": [
            "I will learn Python\n"
          ]
        }
      ],
      "source": [
        "print(\"I will learn Python\")"
      ]
    },
    {
      "cell_type": "code",
      "source": [
        "# Basic Calculation !!!\n",
        "print(5 * 2)\n",
        "print(5 ** 2)\n",
        "print(7 / 2)\n",
        "print(7 // 2) # floor division ปัดเศษลง"
      ],
      "metadata": {
        "colab": {
          "base_uri": "https://localhost:8080/"
        },
        "id": "kIBR8VFkgVtT",
        "outputId": "d56332c9-411d-4a18-9d41-87bfbb4c0b97"
      },
      "execution_count": null,
      "outputs": [
        {
          "output_type": "stream",
          "name": "stdout",
          "text": [
            "10\n",
            "25\n",
            "3.5\n",
            "3\n"
          ]
        }
      ]
    },
    {
      "cell_type": "code",
      "source": [
        "pow(5, 2) # Function ยกกำลัง\n",
        "abs(-666)"
      ],
      "metadata": {
        "colab": {
          "base_uri": "https://localhost:8080/"
        },
        "id": "K1aPTS8sgbMe",
        "outputId": "624303fc-fcaf-4fd5-88cd-89c15df7ef74"
      },
      "execution_count": null,
      "outputs": [
        {
          "output_type": "execute_result",
          "data": {
            "text/plain": [
              "666"
            ]
          },
          "metadata": {},
          "execution_count": 19
        }
      ]
    },
    {
      "cell_type": "code",
      "source": [
        "# modulo หารเทิร์นเศษออกมา\n",
        "5 % 2\n",
        "5 % 5"
      ],
      "metadata": {
        "colab": {
          "base_uri": "https://localhost:8080/"
        },
        "id": "jNXXTwBwh9p1",
        "outputId": "1ea17d02-3976-490b-940e-48dfc56046d9"
      },
      "execution_count": null,
      "outputs": [
        {
          "output_type": "execute_result",
          "data": {
            "text/plain": [
              "0"
            ]
          },
          "metadata": {},
          "execution_count": 23
        }
      ]
    },
    {
      "cell_type": "markdown",
      "source": [
        "# 5 building blocks\n",
        "-------------"
      ],
      "metadata": {
        "id": "Xs4VWHBq1Cfk"
      }
    },
    {
      "cell_type": "code",
      "source": [
        "# 5 building blocks\n",
        "# 1. variables\n",
        "# 2. data types\n",
        "# 3. data structure\n",
        "# 4. function\n",
        "# 5. control flow\n",
        "# 6. OOP >> แถม"
      ],
      "metadata": {
        "id": "xp7MSfITieG5"
      },
      "execution_count": null,
      "outputs": []
    },
    {
      "cell_type": "code",
      "source": [
        "# assign / create a variables\n",
        "my_name = \"Nont\" # str\n",
        "age = 26 # int\n",
        "gpa = 3.80 # float\n",
        "movie_lover = False # bool"
      ],
      "metadata": {
        "id": "kkha7gsutoId"
      },
      "execution_count": null,
      "outputs": []
    },
    {
      "cell_type": "code",
      "source": [
        "# case sensitive >> A != a\n",
        "print(my_name, age, gpa, movie_lover)"
      ],
      "metadata": {
        "colab": {
          "base_uri": "https://localhost:8080/"
        },
        "id": "uteWdW2iuiea",
        "outputId": "67426d53-e4bd-4fd9-ce13-1f17df4184ff"
      },
      "execution_count": null,
      "outputs": [
        {
          "output_type": "stream",
          "name": "stdout",
          "text": [
            "Nont 26 3.8 False\n"
          ]
        }
      ]
    },
    {
      "cell_type": "code",
      "source": [
        "# over write a value\n",
        "age = 27\n",
        "new_age = age - 1\n",
        "print(age, new_age)"
      ],
      "metadata": {
        "colab": {
          "base_uri": "https://localhost:8080/"
        },
        "id": "cW0yGI2hvA57",
        "outputId": "82fc9353-801c-405a-fd44-ddc1de063ab4"
      },
      "execution_count": null,
      "outputs": [
        {
          "output_type": "stream",
          "name": "stdout",
          "text": [
            "27 26\n"
          ]
        }
      ]
    },
    {
      "cell_type": "code",
      "source": [
        "s23_price = 30000\n",
        "discount = 0.15\n",
        "new_s23_price = s23_price * (1-discount)\n",
        "print(new_s23_price)"
      ],
      "metadata": {
        "colab": {
          "base_uri": "https://localhost:8080/"
        },
        "id": "F9vq_NMTv1c4",
        "outputId": "4774d8a2-9c02-47dd-cb9a-8a09df26f826"
      },
      "execution_count": null,
      "outputs": [
        {
          "output_type": "stream",
          "name": "stdout",
          "text": [
            "25500.0\n"
          ]
        }
      ]
    },
    {
      "cell_type": "code",
      "source": [
        "# remove variables\n",
        "del new_s23_price"
      ],
      "metadata": {
        "id": "s8lf5Nw9xj75"
      },
      "execution_count": null,
      "outputs": []
    },
    {
      "cell_type": "code",
      "source": [
        "# count variables\n",
        "age = 25\n",
        "age += 1\n",
        "age += 1\n",
        "age -= 2\n",
        "age *= 2\n",
        "age /= 2\n",
        "print(age)"
      ],
      "metadata": {
        "colab": {
          "base_uri": "https://localhost:8080/"
        },
        "id": "H3xQ4I8Fzkuz",
        "outputId": "fee76664-1693-4ce9-ef84-3366d3bd88a9"
      },
      "execution_count": null,
      "outputs": [
        {
          "output_type": "stream",
          "name": "stdout",
          "text": [
            "25.0\n"
          ]
        }
      ]
    },
    {
      "cell_type": "code",
      "source": [
        "# data types\n",
        "# str int float bool"
      ],
      "metadata": {
        "id": "DTi_Cg1Nz_JH"
      },
      "execution_count": null,
      "outputs": []
    },
    {
      "cell_type": "code",
      "source": [
        "age = 25\n",
        "gpa = 3.80\n",
        "school = \"CAMT\"\n",
        "movie_lover = False"
      ],
      "metadata": {
        "id": "14hIeK691bMK"
      },
      "execution_count": null,
      "outputs": []
    },
    {
      "cell_type": "code",
      "source": [
        "# check data types\n",
        "print( type(age) )\n",
        "print( type(gpa) )\n",
        "print( type(school) )\n",
        "print( type(movie_lover) )"
      ],
      "metadata": {
        "colab": {
          "base_uri": "https://localhost:8080/"
        },
        "id": "EY20ZRQO1j6C",
        "outputId": "230c3369-0f69-45b3-cb4d-9a5dcc354b83"
      },
      "execution_count": null,
      "outputs": [
        {
          "output_type": "stream",
          "name": "stdout",
          "text": [
            "<class 'int'>\n",
            "<class 'float'>\n",
            "<class 'str'>\n",
            "<class 'bool'>\n"
          ]
        }
      ]
    },
    {
      "cell_type": "code",
      "source": [
        "# convert type\n",
        "x = 100\n",
        "x = str(x)\n",
        "print( x, type(x) )"
      ],
      "metadata": {
        "colab": {
          "base_uri": "https://localhost:8080/"
        },
        "id": "-L-VB9be15B8",
        "outputId": "e06edd6c-52b8-44b3-fa59-781f3680831b"
      },
      "execution_count": null,
      "outputs": [
        {
          "output_type": "stream",
          "name": "stdout",
          "text": [
            "100 <class 'str'>\n"
          ]
        }
      ]
    },
    {
      "cell_type": "code",
      "source": [
        "y = True # T=1, F=0\n",
        "y = int(y)\n",
        "print( y, type(y) )"
      ],
      "metadata": {
        "colab": {
          "base_uri": "https://localhost:8080/"
        },
        "id": "Dd6xDCCe2aa4",
        "outputId": "96806350-e5f1-4dda-9bc1-db14c20b9807"
      },
      "execution_count": null,
      "outputs": [
        {
          "output_type": "stream",
          "name": "stdout",
          "text": [
            "1 <class 'int'>\n"
          ]
        }
      ]
    },
    {
      "cell_type": "code",
      "source": [
        "# type hint\n",
        "age: int = 26\n",
        "print(age, type(age))"
      ],
      "metadata": {
        "id": "4-bngNVz3Y5U",
        "colab": {
          "base_uri": "https://localhost:8080/"
        },
        "outputId": "a60daf32-355d-4f1a-9db8-81c7b6ce834a"
      },
      "execution_count": null,
      "outputs": [
        {
          "output_type": "stream",
          "name": "stdout",
          "text": [
            "26 <class 'int'>\n"
          ]
        }
      ]
    },
    {
      "cell_type": "code",
      "source": [
        "# function\n",
        "print(\"Hello\")\n",
        "print(pow(5, 2), abs(-5))"
      ],
      "metadata": {
        "colab": {
          "base_uri": "https://localhost:8080/"
        },
        "id": "8Qslx0SdeJcv",
        "outputId": "9edac2d9-0395-4071-9e72-bd79727175d0"
      },
      "execution_count": null,
      "outputs": [
        {
          "output_type": "stream",
          "name": "stdout",
          "text": [
            "Hello\n",
            "25 5\n"
          ]
        }
      ]
    },
    {
      "cell_type": "code",
      "source": [
        "# greeting() >> definite your function\n",
        "def greeting(name= \"Nont\", location= \"Thailand\"):\n",
        "    print(\"Hello \" + name)\n",
        "    print(\"He is in \" + location)"
      ],
      "metadata": {
        "id": "xdggLym7fEbx"
      },
      "execution_count": null,
      "outputs": []
    },
    {
      "cell_type": "code",
      "source": [
        "greeting(location=\"Japan\", name= \"Yoko\") # if swab position Put parameter\n",
        "greeting(\"Boruto\", \"Korea\") # if correct position"
      ],
      "metadata": {
        "colab": {
          "base_uri": "https://localhost:8080/"
        },
        "id": "GC3tSrRsfqeg",
        "outputId": "450cac66-af3d-4fa9-8d31-46d10b53242b"
      },
      "execution_count": null,
      "outputs": [
        {
          "output_type": "stream",
          "name": "stdout",
          "text": [
            "Hello Yoko\n",
            "He is in Japan\n",
            "Hello Boruto\n",
            "He is in Korea\n"
          ]
        }
      ]
    },
    {
      "cell_type": "code",
      "source": [
        "def add_two_nums(num1, num2):\n",
        "    print(\"Calculation\")\n",
        "    print(\"Done!\")\n",
        "    return num1 + num2 # function after reture will not work!! put before reture"
      ],
      "metadata": {
        "id": "w_3ov4tufwpO"
      },
      "execution_count": null,
      "outputs": []
    },
    {
      "cell_type": "code",
      "source": [
        "result = add_two_nums(15, 15)\n",
        "print(result)"
      ],
      "metadata": {
        "colab": {
          "base_uri": "https://localhost:8080/"
        },
        "id": "uPEKlL2NiUZc",
        "outputId": "9943048d-85a5-407e-97b9-f31d1ba8d8d3"
      },
      "execution_count": null,
      "outputs": [
        {
          "output_type": "stream",
          "name": "stdout",
          "text": [
            "Calculation\n",
            "Done!\n",
            "30\n"
          ]
        }
      ]
    },
    {
      "cell_type": "code",
      "source": [
        "# work with string\n",
        "text = \"Hello World\"\n",
        "\n",
        "long_text = \"\"\"\n",
        "This is very long text\n",
        "This is a new line\n",
        "eiei\n",
        "\"\"\"\n",
        "\n",
        "print(text)\n",
        "print(long_text)"
      ],
      "metadata": {
        "colab": {
          "base_uri": "https://localhost:8080/"
        },
        "id": "jyqzHGXciZnM",
        "outputId": "41fef35f-edc6-4d14-89d2-26369189c9e4"
      },
      "execution_count": null,
      "outputs": [
        {
          "output_type": "stream",
          "name": "stdout",
          "text": [
            "Hello World\n",
            "\n",
            "This is very long text\n",
            "This is a new line\n",
            "eiei\n",
            "\n"
          ]
        }
      ]
    },
    {
      "cell_type": "code",
      "source": [
        "# string template : fstrings\n",
        "my_name =\"Nont\"\n",
        "location = \"Thailand\"\n",
        "\n",
        "text = f\"Hi! my name is {my_name} and I live in {location}\"\n",
        "print(text)"
      ],
      "metadata": {
        "colab": {
          "base_uri": "https://localhost:8080/"
        },
        "id": "1NhR8_gFuUsA",
        "outputId": "bd422ab5-9c02-4ec3-a908-76a027e29726"
      },
      "execution_count": null,
      "outputs": [
        {
          "output_type": "stream",
          "name": "stdout",
          "text": [
            "Hi! my name is Nont and I live in Thailand\n"
          ]
        }
      ]
    },
    {
      "cell_type": "code",
      "source": [
        "\"Hi! my name is {} location {}\" .format(my_name, location)"
      ],
      "metadata": {
        "colab": {
          "base_uri": "https://localhost:8080/",
          "height": 35
        },
        "id": "8si4utTw3CII",
        "outputId": "85551962-fc0c-4582-8838-a5950ee80e4e"
      },
      "execution_count": null,
      "outputs": [
        {
          "output_type": "execute_result",
          "data": {
            "text/plain": [
              "'Hi! my name is Nont location Thailand'"
            ],
            "application/vnd.google.colaboratory.intrinsic+json": {
              "type": "string"
            }
          },
          "metadata": {},
          "execution_count": 34
        }
      ]
    },
    {
      "cell_type": "code",
      "source": [
        "text = \"a duck walks into a bar\"\n",
        "print(text)"
      ],
      "metadata": {
        "colab": {
          "base_uri": "https://localhost:8080/"
        },
        "id": "Pp1IIpbZ9IG9",
        "outputId": "25517d61-6d25-48e5-e735-1a78a0629dc0"
      },
      "execution_count": null,
      "outputs": [
        {
          "output_type": "stream",
          "name": "stdout",
          "text": [
            "a duck walks into a bar\n"
          ]
        }
      ]
    },
    {
      "cell_type": "code",
      "source": [
        "print(len(text))"
      ],
      "metadata": {
        "colab": {
          "base_uri": "https://localhost:8080/"
        },
        "id": "RXFLMFWK9gbi",
        "outputId": "37f3cf16-f5ad-4e11-9ea8-5ce5ec68933b"
      },
      "execution_count": null,
      "outputs": [
        {
          "output_type": "stream",
          "name": "stdout",
          "text": [
            "23\n"
          ]
        }
      ]
    },
    {
      "cell_type": "code",
      "source": [
        "# slicing\n",
        "text[22]"
      ],
      "metadata": {
        "colab": {
          "base_uri": "https://localhost:8080/",
          "height": 35
        },
        "id": "ddhCHexu9raT",
        "outputId": "4674a9e5-c73b-4a8d-cde3-13c0ad582ebc"
      },
      "execution_count": null,
      "outputs": [
        {
          "output_type": "execute_result",
          "data": {
            "text/plain": [
              "'r'"
            ],
            "application/vnd.google.colaboratory.intrinsic+json": {
              "type": "string"
            }
          },
          "metadata": {},
          "execution_count": 49
        }
      ]
    },
    {
      "cell_type": "code",
      "source": [
        "text[2:6] # up to, but not include 6\n",
        "text[7: ] # white space >> to end\n",
        "text[-3: ]"
      ],
      "metadata": {
        "colab": {
          "base_uri": "https://localhost:8080/",
          "height": 35
        },
        "id": "xrQe5gSn9woa",
        "outputId": "e0d65533-6d4a-4c91-9a7d-2bd390856c3d"
      },
      "execution_count": null,
      "outputs": [
        {
          "output_type": "execute_result",
          "data": {
            "text/plain": [
              "'bar'"
            ],
            "application/vnd.google.colaboratory.intrinsic+json": {
              "type": "string"
            }
          },
          "metadata": {},
          "execution_count": 53
        }
      ]
    },
    {
      "cell_type": "code",
      "source": [
        "# string is immutable\n",
        "name = \"Python\" # >> Cython\n",
        "name = \"C\" + name[1: ]\n",
        "print(name)"
      ],
      "metadata": {
        "colab": {
          "base_uri": "https://localhost:8080/"
        },
        "id": "_ezdV4hMA-e3",
        "outputId": "4f53a2b3-ecf8-4cd9-9799-e703cdeee837"
      },
      "execution_count": null,
      "outputs": [
        {
          "output_type": "stream",
          "name": "stdout",
          "text": [
            "Cython\n"
          ]
        }
      ]
    },
    {
      "cell_type": "code",
      "source": [
        "text = \"a duck walks into a bar\""
      ],
      "metadata": {
        "id": "W_qW-gk5Emy6"
      },
      "execution_count": null,
      "outputs": []
    },
    {
      "cell_type": "code",
      "source": [
        "# function vs. method\n",
        "# string methods\n",
        "text.upper()"
      ],
      "metadata": {
        "colab": {
          "base_uri": "https://localhost:8080/",
          "height": 35
        },
        "id": "gF0a4mf7LDRN",
        "outputId": "c1a93760-ded4-4c15-8247-72b1df4c05f5"
      },
      "execution_count": null,
      "outputs": [
        {
          "output_type": "execute_result",
          "data": {
            "text/plain": [
              "'A DUCK WALKS INTO A BAR'"
            ],
            "application/vnd.google.colaboratory.intrinsic+json": {
              "type": "string"
            }
          },
          "metadata": {},
          "execution_count": 58
        }
      ]
    },
    {
      "cell_type": "code",
      "source": [
        "text.replace(\"duck\", \"lion\")"
      ],
      "metadata": {
        "colab": {
          "base_uri": "https://localhost:8080/",
          "height": 35
        },
        "id": "1VwxP7FLLZt1",
        "outputId": "33dce2a6-b65a-4d15-866d-7fb2ff92b81d"
      },
      "execution_count": null,
      "outputs": [
        {
          "output_type": "execute_result",
          "data": {
            "text/plain": [
              "'a lion walks into a bar'"
            ],
            "application/vnd.google.colaboratory.intrinsic+json": {
              "type": "string"
            }
          },
          "metadata": {},
          "execution_count": 61
        }
      ]
    },
    {
      "cell_type": "code",
      "source": [
        "words = text.split(\" \")\n",
        "print(words, type(words))"
      ],
      "metadata": {
        "colab": {
          "base_uri": "https://localhost:8080/"
        },
        "id": "3KnwmdVaO4e8",
        "outputId": "c732b32b-11a5-4a71-e68d-8c1194295961"
      },
      "execution_count": null,
      "outputs": [
        {
          "output_type": "stream",
          "name": "stdout",
          "text": [
            "['a', 'duck', 'walks', 'into', 'a', 'bar'] <class 'list'>\n"
          ]
        }
      ]
    },
    {
      "cell_type": "code",
      "source": [
        "\" \".join(words)"
      ],
      "metadata": {
        "colab": {
          "base_uri": "https://localhost:8080/",
          "height": 35
        },
        "id": "0iTWuLEHPgQ3",
        "outputId": "6f602d10-4665-4f36-cd42-b4d2705ae047"
      },
      "execution_count": null,
      "outputs": [
        {
          "output_type": "execute_result",
          "data": {
            "text/plain": [
              "'a duck walks into a bar'"
            ],
            "application/vnd.google.colaboratory.intrinsic+json": {
              "type": "string"
            }
          },
          "metadata": {},
          "execution_count": 65
        }
      ]
    },
    {
      "cell_type": "code",
      "source": [
        "# method = function that created for the object"
      ],
      "metadata": {
        "id": "xrbKJDcbQLLP"
      },
      "execution_count": null,
      "outputs": []
    },
    {
      "cell_type": "code",
      "source": [
        "# data structure\n",
        "# 1. list []\n",
        "# 2. tuple ()\n",
        "# 3. dictionary {}\n",
        "# 4. set {unique}"
      ],
      "metadata": {
        "id": "9Ulu9FArQuCP"
      },
      "execution_count": null,
      "outputs": []
    },
    {
      "cell_type": "code",
      "source": [
        "# list\n",
        "# list is mutable\n",
        "shopping_item = [\"pen\", \"notebook\", \"eraser\"]\n",
        "\n",
        "shopping_item[0] = \"pencil\"\n",
        "\n",
        "print(shopping_item)"
      ],
      "metadata": {
        "colab": {
          "base_uri": "https://localhost:8080/"
        },
        "id": "kr3hDBZAR0BK",
        "outputId": "715b950f-0227-4129-a93b-b9900e05e401"
      },
      "execution_count": null,
      "outputs": [
        {
          "output_type": "stream",
          "name": "stdout",
          "text": [
            "['pencil', 'notebook', 'eraser']\n"
          ]
        }
      ]
    },
    {
      "cell_type": "code",
      "source": [
        "# list methods\n",
        "shopping_item.append(\"ruler\")\n",
        "print(shopping_item)"
      ],
      "metadata": {
        "colab": {
          "base_uri": "https://localhost:8080/"
        },
        "id": "5UMjpi0RSC1O",
        "outputId": "1d82ceea-1829-4ea5-9ff2-b1f733c20c20"
      },
      "execution_count": null,
      "outputs": [
        {
          "output_type": "stream",
          "name": "stdout",
          "text": [
            "['pencil', 'notebook', 'eraser', 'ruler', 'ruler', 'ruler', 'ruler']\n"
          ]
        }
      ]
    },
    {
      "cell_type": "code",
      "source": [
        "# sort items (ascending order by defualt A-Z)\n",
        "shopping_item.sort(reverse=True) # descending order\n",
        "print(shopping_item)"
      ],
      "metadata": {
        "colab": {
          "base_uri": "https://localhost:8080/"
        },
        "id": "fWQOYYZUTSzj",
        "outputId": "94b0772e-c6c1-4877-f57b-da2cf0be0f5b"
      },
      "execution_count": null,
      "outputs": [
        {
          "output_type": "stream",
          "name": "stdout",
          "text": [
            "['ruler', 'ruler', 'ruler', 'ruler']\n"
          ]
        }
      ]
    },
    {
      "cell_type": "code",
      "source": [
        "def mean(score):\n",
        "    return sum(score) / len(score)"
      ],
      "metadata": {
        "id": "dCdlL9iMUBg6"
      },
      "execution_count": null,
      "outputs": []
    },
    {
      "cell_type": "code",
      "source": [
        "score = [55, 65, 30, 70]\n",
        "print(mean(score))"
      ],
      "metadata": {
        "colab": {
          "base_uri": "https://localhost:8080/"
        },
        "id": "9xTvBA1qV3cx",
        "outputId": "54c4788f-66c2-4733-b147-a53d926d5c3a"
      },
      "execution_count": null,
      "outputs": [
        {
          "output_type": "stream",
          "name": "stdout",
          "text": [
            "55.0\n"
          ]
        }
      ]
    },
    {
      "cell_type": "code",
      "source": [
        "# list methods : remove and pop\n",
        "# remove >> remove a value\n",
        "# pop >> remove the last one form right side"
      ],
      "metadata": {
        "id": "gbt_Y9lgWuho"
      },
      "execution_count": null,
      "outputs": []
    },
    {
      "cell_type": "code",
      "source": [
        "# .insert()\n",
        "shopping_item.insert(1, \"pen\")\n",
        "print(shopping_item)"
      ],
      "metadata": {
        "colab": {
          "base_uri": "https://localhost:8080/"
        },
        "id": "30B3UZEoWw2V",
        "outputId": "83429b99-b7d0-4633-c422-0a3010840547"
      },
      "execution_count": null,
      "outputs": [
        {
          "output_type": "stream",
          "name": "stdout",
          "text": [
            "['ruler', 'pen', 'pen', 'ruler', 'ruler', 'ruler']\n"
          ]
        }
      ]
    },
    {
      "cell_type": "code",
      "source": [
        "# lists + lists\n",
        "item1 = [\"egg\", \"milk\"]\n",
        "item2 = [\"cream\", \"water\"]\n",
        "print(item1 + item2)"
      ],
      "metadata": {
        "colab": {
          "base_uri": "https://localhost:8080/"
        },
        "id": "1Y1DKjUdXxp1",
        "outputId": "dc579e31-9407-414d-9a28-a687e177ea7e"
      },
      "execution_count": null,
      "outputs": [
        {
          "output_type": "stream",
          "name": "stdout",
          "text": [
            "['egg', 'milk', 'cream', 'water']\n"
          ]
        }
      ]
    },
    {
      "cell_type": "code",
      "source": [
        "# tuple () is immutable\n",
        "tup_items = (\"egg\", \"bread\", \"pepsi\")\n",
        "tup_items"
      ],
      "metadata": {
        "id": "J5C8wgynZGJi",
        "colab": {
          "base_uri": "https://localhost:8080/"
        },
        "outputId": "6f528fa1-715b-4ceb-d7ce-b6b31d685968"
      },
      "execution_count": null,
      "outputs": [
        {
          "output_type": "execute_result",
          "data": {
            "text/plain": [
              "['egg', 'bread', 'pepsi']"
            ]
          },
          "metadata": {},
          "execution_count": 1
        }
      ]
    },
    {
      "cell_type": "code",
      "source": [
        "# username password\n",
        "s1 = (\"student001\", \"123456\")\n",
        "s2 = (\"student002\", \"654321\")\n",
        "\n",
        "user_pw = (s1, s2)\n",
        "print(user_pw)"
      ],
      "metadata": {
        "colab": {
          "base_uri": "https://localhost:8080/"
        },
        "id": "1j9X7eKZBkuI",
        "outputId": "d7b892ba-9951-49ef-e0ee-e7db25397075"
      },
      "execution_count": null,
      "outputs": [
        {
          "output_type": "stream",
          "name": "stdout",
          "text": [
            "(('student001', '123456'), ('student002', '654321'))\n"
          ]
        }
      ]
    },
    {
      "cell_type": "code",
      "source": [
        "# tuple unpacking\n",
        "username, password = s1\n",
        "\n",
        "print(username, password)"
      ],
      "metadata": {
        "colab": {
          "base_uri": "https://localhost:8080/"
        },
        "id": "oov-jY4yCxj_",
        "outputId": "f3c6760b-fdb1-46fd-cf00-43662aef9f3e"
      },
      "execution_count": null,
      "outputs": [
        {
          "output_type": "stream",
          "name": "stdout",
          "text": [
            "student001 123456\n"
          ]
        }
      ]
    },
    {
      "cell_type": "code",
      "source": [
        "# tuple unpacking 3 values\n",
        "name, age, gpa = (\"Nont\", 26, 3.80)\n",
        "print(name, age, gpa)"
      ],
      "metadata": {
        "colab": {
          "base_uri": "https://localhost:8080/"
        },
        "id": "byeQd39IDAxz",
        "outputId": "96411e00-5bb4-4559-c7da-6a7e6dc875f6"
      },
      "execution_count": null,
      "outputs": [
        {
          "output_type": "stream",
          "name": "stdout",
          "text": [
            "Nont 26 3.8\n"
          ]
        }
      ]
    },
    {
      "cell_type": "code",
      "source": [
        "# set {unique}\n",
        "courses = [\"Python\", \"R\", \"SQL\", \"SQL\", \"sql\"]"
      ],
      "metadata": {
        "id": "nNbgG6HcDOcI"
      },
      "execution_count": null,
      "outputs": []
    },
    {
      "cell_type": "code",
      "source": [
        "set(courses)"
      ],
      "metadata": {
        "colab": {
          "base_uri": "https://localhost:8080/"
        },
        "id": "REgzjKb2EH9b",
        "outputId": "97db4f46-4408-4479-d80c-dbc49f78768b"
      },
      "execution_count": null,
      "outputs": [
        {
          "output_type": "execute_result",
          "data": {
            "text/plain": [
              "{'Python', 'R', 'SQL', 'sql'}"
            ]
          },
          "metadata": {},
          "execution_count": 11
        }
      ]
    },
    {
      "cell_type": "code",
      "source": [
        "# dictionary key: value pairs\n",
        "course = {\n",
        "    \"name\": \"Data ScienceBoostcamp\",\n",
        "    \"duration\": \"3 months\",\n",
        "    \"students\": 200,\n",
        "    \"replay\": True,\n",
        "    \"skills\": [\"Google Sheets\", \"SQL\", \"Python\", \"ML\", \"Stats\"]\n",
        "}"
      ],
      "metadata": {
        "id": "tnGTIzl2EJ4p"
      },
      "execution_count": null,
      "outputs": []
    },
    {
      "cell_type": "code",
      "source": [
        "course"
      ],
      "metadata": {
        "colab": {
          "base_uri": "https://localhost:8080/"
        },
        "id": "OV5xXbtaE-J2",
        "outputId": "c7124d1e-76af-4f47-d589-685f33b5e527"
      },
      "execution_count": null,
      "outputs": [
        {
          "output_type": "execute_result",
          "data": {
            "text/plain": [
              "{'name': 'Data ScienceBoostcamp',\n",
              " 'duration': '3 months',\n",
              " 'students': 200,\n",
              " 'replay': True,\n",
              " 'skills': ['Google Sheets', 'SQL', 'Python', 'ML', 'Stats']}"
            ]
          },
          "metadata": {},
          "execution_count": 21
        }
      ]
    },
    {
      "cell_type": "code",
      "source": [
        "course[\"skills\"]"
      ],
      "metadata": {
        "colab": {
          "base_uri": "https://localhost:8080/"
        },
        "id": "dWm6uG40FPBM",
        "outputId": "a3651866-617e-4d24-a2da-353915c10d50"
      },
      "execution_count": null,
      "outputs": [
        {
          "output_type": "execute_result",
          "data": {
            "text/plain": [
              "['Google Sheets', 'SQL', 'Python', 'ML', 'Stats']"
            ]
          },
          "metadata": {},
          "execution_count": 23
        }
      ]
    },
    {
      "cell_type": "code",
      "source": [
        "course[\"start_time\"] = \"9am\" # >> create new key and value\n",
        "\n",
        "course[\"language\"] = \"Thai\"\n",
        "\n",
        "course"
      ],
      "metadata": {
        "colab": {
          "base_uri": "https://localhost:8080/"
        },
        "id": "a-wYOBQBF4kQ",
        "outputId": "d1cc39b6-3ba0-4773-c1a4-04fe01a97199"
      },
      "execution_count": null,
      "outputs": [
        {
          "output_type": "execute_result",
          "data": {
            "text/plain": [
              "{'name': 'Data ScienceBoostcamp',\n",
              " 'duration': '3 months',\n",
              " 'students': 200,\n",
              " 'replay': True,\n",
              " 'skills': ['Google Sheets', 'SQL', 'Python', 'ML', 'Stats'],\n",
              " 'start_time': '9am',\n",
              " 'language': 'Thai'}"
            ]
          },
          "metadata": {},
          "execution_count": 26
        }
      ]
    },
    {
      "cell_type": "code",
      "source": [
        "# delete key\n",
        "del course[\"language\"]\n",
        "\n",
        "course"
      ],
      "metadata": {
        "colab": {
          "base_uri": "https://localhost:8080/"
        },
        "id": "2gI33kOJGQri",
        "outputId": "fae87826-7e46-4c3d-8d1f-f01e72f513c2"
      },
      "execution_count": null,
      "outputs": [
        {
          "output_type": "execute_result",
          "data": {
            "text/plain": [
              "{'name': 'Data ScienceBoostcamp',\n",
              " 'duration': '3 months',\n",
              " 'students': 200,\n",
              " 'replay': True,\n",
              " 'skills': ['Google Sheets', 'SQL', 'Python', 'ML', 'Stats'],\n",
              " 'start_time': '9am'}"
            ]
          },
          "metadata": {},
          "execution_count": 27
        }
      ]
    },
    {
      "cell_type": "code",
      "source": [
        "# update value\n",
        "course[\"replay\"] = False\n",
        "\n",
        "course"
      ],
      "metadata": {
        "colab": {
          "base_uri": "https://localhost:8080/"
        },
        "id": "-WdXCjBnHZ1V",
        "outputId": "8dbf2400-4636-4bae-bd33-9b54ae77ee10"
      },
      "execution_count": null,
      "outputs": [
        {
          "output_type": "execute_result",
          "data": {
            "text/plain": [
              "{'name': 'Data ScienceBoostcamp',\n",
              " 'duration': '3 months',\n",
              " 'students': 200,\n",
              " 'replay': False,\n",
              " 'skills': ['Google Sheets', 'SQL', 'Python', 'ML', 'Stats'],\n",
              " 'start_time': '9am'}"
            ]
          },
          "metadata": {},
          "execution_count": 28
        }
      ]
    },
    {
      "cell_type": "code",
      "source": [
        "# nested dict and lists\n",
        "course[\"skills\"][0:3]"
      ],
      "metadata": {
        "colab": {
          "base_uri": "https://localhost:8080/"
        },
        "id": "7kSTdeLYIDl1",
        "outputId": "505f634e-5b2d-443a-fd56-a08051cbefbf"
      },
      "execution_count": null,
      "outputs": [
        {
          "output_type": "execute_result",
          "data": {
            "text/plain": [
              "['Google Sheets', 'SQL', 'Python']"
            ]
          },
          "metadata": {},
          "execution_count": 29
        }
      ]
    },
    {
      "cell_type": "code",
      "source": [
        "course"
      ],
      "metadata": {
        "colab": {
          "base_uri": "https://localhost:8080/"
        },
        "id": "FFC9eDqSIODV",
        "outputId": "35a9fe75-6677-4317-bfd2-da8e8113bbc2"
      },
      "execution_count": null,
      "outputs": [
        {
          "output_type": "execute_result",
          "data": {
            "text/plain": [
              "{'name': 'Data ScienceBoostcamp',\n",
              " 'duration': '3 months',\n",
              " 'students': 200,\n",
              " 'replay': False,\n",
              " 'skills': ['Google Sheets', 'SQL', 'Python', 'ML', 'Stats'],\n",
              " 'start_time': '9am'}"
            ]
          },
          "metadata": {},
          "execution_count": 30
        }
      ]
    },
    {
      "cell_type": "code",
      "source": [
        "# dict methods\n",
        "list( course.keys() )"
      ],
      "metadata": {
        "colab": {
          "base_uri": "https://localhost:8080/"
        },
        "id": "mTHRYeQeIeo9",
        "outputId": "bc3d5fc2-a91a-4cd5-8e99-11d6fdb935cf"
      },
      "execution_count": null,
      "outputs": [
        {
          "output_type": "execute_result",
          "data": {
            "text/plain": [
              "['name', 'duration', 'students', 'replay', 'skills', 'start_time']"
            ]
          },
          "metadata": {},
          "execution_count": 31
        }
      ]
    },
    {
      "cell_type": "code",
      "source": [
        "list( course.values() )"
      ],
      "metadata": {
        "colab": {
          "base_uri": "https://localhost:8080/"
        },
        "id": "GMILIylaIxL9",
        "outputId": "42ca493e-d02a-4575-ae14-7fb577af8c14"
      },
      "execution_count": null,
      "outputs": [
        {
          "output_type": "execute_result",
          "data": {
            "text/plain": [
              "['Data ScienceBoostcamp',\n",
              " '3 months',\n",
              " 200,\n",
              " False,\n",
              " ['Google Sheets', 'SQL', 'Python', 'ML', 'Stats'],\n",
              " '9am']"
            ]
          },
          "metadata": {},
          "execution_count": 33
        }
      ]
    },
    {
      "cell_type": "code",
      "source": [
        "course.items()"
      ],
      "metadata": {
        "colab": {
          "base_uri": "https://localhost:8080/"
        },
        "id": "hfUsK7gOI1tW",
        "outputId": "84a07de9-d32e-4fec-cb4e-a679c5d9a32f"
      },
      "execution_count": null,
      "outputs": [
        {
          "output_type": "execute_result",
          "data": {
            "text/plain": [
              "dict_items([('name', 'Data ScienceBoostcamp'), ('duration', '3 months'), ('students', 200), ('replay', False), ('skills', ['Google Sheets', 'SQL', 'Python', 'ML', 'Stats']), ('start_time', '9am')])"
            ]
          },
          "metadata": {},
          "execution_count": 35
        }
      ]
    },
    {
      "cell_type": "code",
      "source": [
        "course.get(\"replay\") # >> when wrong key, nothing"
      ],
      "metadata": {
        "colab": {
          "base_uri": "https://localhost:8080/"
        },
        "id": "ZxCZ0UBSJFWO",
        "outputId": "f9264cd0-e23a-4a1e-e294-4c7d5dd89e1f"
      },
      "execution_count": null,
      "outputs": [
        {
          "output_type": "execute_result",
          "data": {
            "text/plain": [
              "False"
            ]
          },
          "metadata": {},
          "execution_count": 39
        }
      ]
    },
    {
      "cell_type": "code",
      "source": [
        "course[\"replay\"]# >> when wrong key, error"
      ],
      "metadata": {
        "colab": {
          "base_uri": "https://localhost:8080/"
        },
        "id": "xOz9JfzTJtS_",
        "outputId": "df102834-6e3e-4a15-bb9e-41cacdd5f04b"
      },
      "execution_count": null,
      "outputs": [
        {
          "output_type": "execute_result",
          "data": {
            "text/plain": [
              "False"
            ]
          },
          "metadata": {},
          "execution_count": 38
        }
      ]
    },
    {
      "cell_type": "code",
      "source": [
        "# Recap\n",
        "# list, dictionary = mutable\n",
        "# tuple, string = immutable"
      ],
      "metadata": {
        "id": "Xxd0vUkWJ5l0"
      },
      "execution_count": null,
      "outputs": []
    },
    {
      "cell_type": "code",
      "source": [
        "# control flow\n",
        "# if for while"
      ],
      "metadata": {
        "id": "V-f_1UqDKOsI"
      },
      "execution_count": null,
      "outputs": []
    },
    {
      "cell_type": "code",
      "source": [
        "# if\n",
        "\n",
        "#final exam 150 questions, pass >=120\n",
        "def grade(score):\n",
        "    if score >= 120:\n",
        "        return \"A\"\n",
        "    elif score >= 100:\n",
        "        return \"B\"\n",
        "    elif score >= 80:\n",
        "        return \"C\"\n",
        "    else:\n",
        "        return \"D\""
      ],
      "metadata": {
        "id": "n94LpNqLKmC5"
      },
      "execution_count": null,
      "outputs": []
    },
    {
      "cell_type": "code",
      "source": [
        "result = grade(105)\n",
        "print(result)"
      ],
      "metadata": {
        "colab": {
          "base_uri": "https://localhost:8080/"
        },
        "id": "EGX2EZOHLA7m",
        "outputId": "b41277bb-5e2d-4568-8635-a018c4499ee6"
      },
      "execution_count": null,
      "outputs": [
        {
          "output_type": "stream",
          "name": "stdout",
          "text": [
            "B\n"
          ]
        }
      ]
    },
    {
      "cell_type": "code",
      "source": [
        "# use and, or in function\n",
        "# course == data science, score >= 80 passed\n",
        "# course == english, score >= 70 passed\n",
        "\n",
        "def grade(course, score):\n",
        "    if course == \"english\" and score >= 70:\n",
        "        return \"passed\"\n",
        "    elif course == \"data science\" and score >= 80:\n",
        "        return \"passed\"\n",
        "    else:\n",
        "        return \"failed\""
      ],
      "metadata": {
        "id": "JRu_VeIXL2yM"
      },
      "execution_count": null,
      "outputs": []
    },
    {
      "cell_type": "code",
      "source": [
        "result = \"english\", grade(\"english\", 80), \"data science\", grade(\"data science\", 40)\n",
        "print(result)"
      ],
      "metadata": {
        "colab": {
          "base_uri": "https://localhost:8080/"
        },
        "id": "PcR54EKBOTtt",
        "outputId": "8c4341db-a500-4244-9dfa-082a67cdfe60"
      },
      "execution_count": null,
      "outputs": [
        {
          "output_type": "stream",
          "name": "stdout",
          "text": [
            "('english', 'passed', 'data science', 'failed')\n"
          ]
        }
      ]
    },
    {
      "cell_type": "code",
      "source": [
        "# for loop\n",
        "\n",
        "# if score >= 80, passed\n",
        "#scores = [88 ,80, 76]\n",
        "\n",
        "#new_scores = []\n",
        "\n",
        "#for score in scores:\n",
        "    #new_scores.append(score-2)\n",
        "\n",
        "#print(new_scores)"
      ],
      "metadata": {
        "colab": {
          "base_uri": "https://localhost:8080/"
        },
        "id": "xi0yHsyHO1j5",
        "outputId": "659c2d0b-49aa-4ca7-b1f1-c3c976ac42d7"
      },
      "execution_count": null,
      "outputs": [
        {
          "output_type": "stream",
          "name": "stdout",
          "text": [
            "[86, 78, 74]\n"
          ]
        }
      ]
    },
    {
      "cell_type": "code",
      "source": [
        " def grading_all(scores):\n",
        "    new_scores = []\n",
        "    for score in scores:\n",
        "        new_scores.append(score+2)\n",
        "    return new_scores"
      ],
      "metadata": {
        "id": "3yM4wHP-QCYv"
      },
      "execution_count": null,
      "outputs": []
    },
    {
      "cell_type": "code",
      "source": [
        "grading_all([75, 99, 55, 60])"
      ],
      "metadata": {
        "colab": {
          "base_uri": "https://localhost:8080/"
        },
        "id": "A4A8KcXvdG-e",
        "outputId": "c4fe8562-fa52-48b0-ecff-fa55991be29b"
      },
      "execution_count": null,
      "outputs": [
        {
          "output_type": "execute_result",
          "data": {
            "text/plain": [
              "[77, 101, 57, 62]"
            ]
          },
          "metadata": {},
          "execution_count": 73
        }
      ]
    },
    {
      "cell_type": "code",
      "source": [
        "# list comprehension\n",
        "scores = [75, 99, 55, 60]"
      ],
      "metadata": {
        "id": "qLzhx3-YdN0_"
      },
      "execution_count": null,
      "outputs": []
    },
    {
      "cell_type": "code",
      "source": [
        "#for s in scores:\n",
        "    #print(s*2)\n",
        "\n",
        "new_scores = [s*2 for s in scores ]\n",
        "new_scores"
      ],
      "metadata": {
        "colab": {
          "base_uri": "https://localhost:8080/"
        },
        "id": "S1mg1yCweGop",
        "outputId": "c5899892-77ca-4fd7-d4de-199b9380dc83"
      },
      "execution_count": null,
      "outputs": [
        {
          "output_type": "execute_result",
          "data": {
            "text/plain": [
              "[150, 198, 110, 120]"
            ]
          },
          "metadata": {},
          "execution_count": 77
        }
      ]
    },
    {
      "cell_type": "code",
      "source": [
        "# list comprehension >> abrev.\n",
        "friends = [\"Non\", \"Nun\", \"Nin\"]\n",
        "#for f in friends:\n",
        "    #print(f.upper() )\n",
        "[f.upper() for f in friends ]"
      ],
      "metadata": {
        "colab": {
          "base_uri": "https://localhost:8080/"
        },
        "id": "yYcBqAQyeftu",
        "outputId": "775de0ec-a98a-4db6-ae7e-cc080fc9d05b"
      },
      "execution_count": null,
      "outputs": [
        {
          "output_type": "execute_result",
          "data": {
            "text/plain": [
              "['NON', 'NUN', 'NIN']"
            ]
          },
          "metadata": {},
          "execution_count": 82
        }
      ]
    },
    {
      "cell_type": "code",
      "source": [
        "# while loop\n",
        "count = 0\n",
        "\n",
        "while count < 5:\n",
        "    print(\"hello\")\n",
        "    count += 1"
      ],
      "metadata": {
        "colab": {
          "base_uri": "https://localhost:8080/"
        },
        "id": "aj7hPwqrfYDu",
        "outputId": "0bf18cc4-567a-4adf-a6a8-fd9dd675ecd0"
      },
      "execution_count": null,
      "outputs": [
        {
          "output_type": "stream",
          "name": "stdout",
          "text": [
            "hello\n",
            "hello\n",
            "hello\n",
            "hello\n",
            "hello\n"
          ]
        }
      ]
    },
    {
      "cell_type": "code",
      "source": [
        "# chatbot for fruit order\n",
        "user_name = input(\"what's your name? \")"
      ],
      "metadata": {
        "colab": {
          "base_uri": "https://localhost:8080/"
        },
        "id": "X1-sGPRtgttn",
        "outputId": "048706cf-cf99-4143-da87-3747f26fd6fa"
      },
      "execution_count": null,
      "outputs": [
        {
          "name": "stdout",
          "output_type": "stream",
          "text": [
            "what's your name? Nont\n"
          ]
        }
      ]
    },
    {
      "cell_type": "code",
      "source": [
        "user_name"
      ],
      "metadata": {
        "colab": {
          "base_uri": "https://localhost:8080/",
          "height": 35
        },
        "id": "tD5-3FjWhDcR",
        "outputId": "90b87383-e114-42b7-af57-0fd1aff594b4"
      },
      "execution_count": null,
      "outputs": [
        {
          "output_type": "execute_result",
          "data": {
            "text/plain": [
              "'Nont'"
            ],
            "application/vnd.google.colaboratory.intrinsic+json": {
              "type": "string"
            }
          },
          "metadata": {},
          "execution_count": 86
        }
      ]
    },
    {
      "cell_type": "code",
      "source": [
        "def chatbot():\n",
        "    fruits = []\n",
        "    while True:\n",
        "        fruit = input(\"what fruit do you want to order? \")\n",
        "        fruits.append(fruit)\n",
        "        if fruit == \"exit\":\n",
        "            return fruits"
      ],
      "metadata": {
        "id": "EL4eg4gvhRkh"
      },
      "execution_count": null,
      "outputs": []
    },
    {
      "cell_type": "code",
      "source": [
        "chatbot()"
      ],
      "metadata": {
        "colab": {
          "base_uri": "https://localhost:8080/"
        },
        "id": "l_ooUsdxh7dw",
        "outputId": "48b1fbbf-71bf-45a4-b81f-a4a650d32f9b"
      },
      "execution_count": null,
      "outputs": [
        {
          "name": "stdout",
          "output_type": "stream",
          "text": [
            "what fruit do you want to order? exit\n"
          ]
        },
        {
          "output_type": "execute_result",
          "data": {
            "text/plain": [
              "['exit']"
            ]
          },
          "metadata": {},
          "execution_count": 97
        }
      ]
    },
    {
      "cell_type": "code",
      "source": [
        "# HW01 - chatbot to order pizza\n",
        "# HW - pao ying chub"
      ],
      "metadata": {
        "id": "3o8WX31Qh-p6"
      },
      "execution_count": null,
      "outputs": []
    },
    {
      "cell_type": "code",
      "source": [
        "# OOP - Object Oriented Programming\n",
        "# Dog Class"
      ],
      "metadata": {
        "id": "WmvH_zVwimGo"
      },
      "execution_count": null,
      "outputs": []
    },
    {
      "cell_type": "code",
      "source": [
        "class Dog:\n",
        "    def __init__(self, name, age): # dunder __\n",
        "        self.name = name\n",
        "        self.age = age"
      ],
      "metadata": {
        "id": "gsJ-lw-jjb_j"
      },
      "execution_count": null,
      "outputs": []
    },
    {
      "cell_type": "code",
      "source": [
        "dog1 = Dog(\"Gog\", 3)\n",
        "dog2 = Dog(\"Bob\", 2)"
      ],
      "metadata": {
        "id": "_ZHUnS5VjoQn"
      },
      "execution_count": null,
      "outputs": []
    },
    {
      "cell_type": "code",
      "source": [
        "print(dog2.name, dog2.age)"
      ],
      "metadata": {
        "colab": {
          "base_uri": "https://localhost:8080/"
        },
        "id": "_0BYzpqMjsiZ",
        "outputId": "5db0e940-2e33-4e62-9a3a-c2d0d30b73b0"
      },
      "execution_count": null,
      "outputs": [
        {
          "output_type": "stream",
          "name": "stdout",
          "text": [
            "Bob 2\n"
          ]
        }
      ]
    },
    {
      "cell_type": "code",
      "source": [
        "class Employee:\n",
        "    def __init__(self, id, department, position):\n",
        "        self.id = id\n",
        "        self.department = department\n",
        "        self.position = position\n",
        "    def hello(self):\n",
        "        print(f\"Hello!! my name is {self.id}\")\n",
        "    def work_hours(self, hours):\n",
        "        print(f\"{self.id} works for {hours} hours.\")"
      ],
      "metadata": {
        "id": "4nZAzVSJk6X0"
      },
      "execution_count": null,
      "outputs": []
    },
    {
      "cell_type": "code",
      "source": [
        "emp1 = Employee(\"em01\", \"mkt\", \"content\")\n",
        "emp2 = Employee(\"em02\", \"acc\", \"audit\")"
      ],
      "metadata": {
        "id": "k7xrI9J5m7ry"
      },
      "execution_count": null,
      "outputs": []
    },
    {
      "cell_type": "code",
      "source": [
        "print(emp1.id, emp1.department, emp1.position)\n",
        "print(emp2.id, emp2.department, emp2.position)\n",
        "emp1.hello()\n",
        "emp1.work_hours(6)"
      ],
      "metadata": {
        "colab": {
          "base_uri": "https://localhost:8080/"
        },
        "id": "Ze8vHdpFnMqL",
        "outputId": "d0896361-ef7e-4bf6-fdb8-3c774c416a16"
      },
      "execution_count": null,
      "outputs": [
        {
          "output_type": "stream",
          "name": "stdout",
          "text": [
            "em01 mkt content\n",
            "em02 acc audit\n",
            "Hello!! my name is em01\n",
            "em01 works fot 6 hours.\n"
          ]
        }
      ]
    },
    {
      "cell_type": "code",
      "source": [
        "# Object: attribute => id, position\n",
        "# Object: method => hello()"
      ],
      "metadata": {
        "id": "FWTrkEt5qjnQ"
      },
      "execution_count": null,
      "outputs": []
    },
    {
      "cell_type": "code",
      "source": [
        "# HW3 - create new ATM class\n",
        "\n",
        "class ATM:\n",
        "    def __init__(self, name, bank, balance):\n",
        "        self.name = name\n",
        "        self.bank = bank\n",
        "        self.balance = balance\n",
        "    def deposit(self, amt):\n",
        "        self.balance += amt"
      ],
      "metadata": {
        "id": "sA8JZB0irXEp"
      },
      "execution_count": null,
      "outputs": []
    },
    {
      "cell_type": "code",
      "source": [
        "kbank = ATM(\"Nont\", \"kbank\", 1000)\n",
        "print(kbank.balance)\n",
        "\n",
        "kbank.deposit(1500)\n",
        "print(kbank.balance)"
      ],
      "metadata": {
        "colab": {
          "base_uri": "https://localhost:8080/"
        },
        "id": "9EfGMBHPsPOc",
        "outputId": "beca08ba-c0a2-4d16-a265-37ef3a1f5e07"
      },
      "execution_count": null,
      "outputs": [
        {
          "output_type": "stream",
          "name": "stdout",
          "text": [
            "1000\n",
            "2500\n"
          ]
        }
      ]
    },
    {
      "cell_type": "code",
      "source": [],
      "metadata": {
        "id": "KUDLP1t7suBV"
      },
      "execution_count": null,
      "outputs": []
    }
  ]
}